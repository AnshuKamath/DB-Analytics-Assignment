{
  "nbformat": 4,
  "nbformat_minor": 0,
  "metadata": {
    "colab": {
      "provenance": [],
      "authorship_tag": "ABX9TyM+CmcpG+mO14QX9fK0se5D",
      "include_colab_link": true
    },
    "kernelspec": {
      "name": "python3",
      "display_name": "Python 3"
    },
    "language_info": {
      "name": "python"
    }
  },
  "cells": [
    {
      "cell_type": "markdown",
      "metadata": {
        "id": "view-in-github",
        "colab_type": "text"
      },
      "source": [
        "<a href=\"https://colab.research.google.com/github/AnshuKamath/DB-Analytics-Assignment/blob/main/Section3_MongoDB_Analysis.ipynb\" target=\"_parent\"><img src=\"https://colab.research.google.com/assets/colab-badge.svg\" alt=\"Open In Colab\"/></a>"
      ]
    },
    {
      "cell_type": "code",
      "source": [
        "{\n",
        "  \"_id\": ObjectId(\"5f8a7b234d9a6c2f3456789a\"),\n",
        "  \"name\": \"John Smith\",\n",
        "  \"gender\": \"Male\",\n",
        "  \"age\": 35,\n",
        "  \"phone_number\": \"+44123456789\",\n",
        "  \"addresses\": [\n",
        "    {\n",
        "      \"_id\": ObjectId(\"5f8a7b234d9a6c2f3456789b\"),\n",
        "      \"house\": \"42\",\n",
        "      \"street\": \"High Street\",\n",
        "      \"city\": \"London\",\n",
        "      \"post_code\": \"SW1A 1AA\",\n",
        "      \"location\": {\n",
        "        \"type\": \"Point\",\n",
        "        \"coordinates\": [-0.1275, 51.5072]\n",
        "      },\n",
        "      \"is_default\": true\n",
        "    }\n",
        "  ],\n",
        "  \"current_orders\": [\n",
        "    {\n",
        "      \"_id\": ObjectId(\"5f8a7b234d9a6c2f3456789c\"),\n",
        "      \"date\": ISODate(\"2025-05-15T14:30:00Z\"),\n",
        "      \"order_status\": 2,  // 2 = Paid\n",
        "      \"order_details\": {\n",
        "        \"total_cost\": 54.99,\n",
        "        \"partner_id\": ObjectId(\"5f8a7b234d9a6c2f3456789d\"),\n",
        "        \"shipping_id\": ObjectId(\"5f8a7b234d9a6c2f3456789b\"),\n",
        "        \"supplier_id\": ObjectId(\"5f8a7b234d9a6c2f3456789e\")\n",
        "      }\n",
        "    }\n",
        "  ],\n",
        "  \"recommended_products\": [\n",
        "    {\n",
        "      \"product_id\": ObjectId(\"5f8a7b234d9a6c2f3456789f\"),\n",
        "      \"avg_rating\": 4.5\n",
        "    }\n",
        "  ],\n",
        "  \"created_at\": ISODate(\"2024-01-15T10:20:30Z\"),\n",
        "  \"updated_at\": ISODate(\"2025-05-15T14:30:00Z\")\n",
        "}"
      ],
      "metadata": {
        "id": "BdKvcA5hqKKV"
      },
      "execution_count": null,
      "outputs": []
    },
    {
      "cell_type": "code",
      "source": [],
      "metadata": {
        "id": "y2k2eZF5rAeb"
      },
      "execution_count": null,
      "outputs": []
    },
    {
      "cell_type": "code",
      "source": [],
      "metadata": {
        "id": "l56h8iE_rAn4"
      },
      "execution_count": null,
      "outputs": []
    }
  ]
}