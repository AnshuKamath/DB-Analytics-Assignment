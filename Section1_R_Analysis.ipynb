{
  "nbformat": 4,
  "nbformat_minor": 0,
  "metadata": {
    "colab": {
      "provenance": [],
      "authorship_tag": "ABX9TyONdFWlxI/D8j/UxJV4n0qE",
      "include_colab_link": true
    },
    "kernelspec": {
      "name": "ir",
      "display_name": "R"
    },
    "language_info": {
      "name": "R"
    }
  },
  "cells": [
    {
      "cell_type": "markdown",
      "metadata": {
        "id": "view-in-github",
        "colab_type": "text"
      },
      "source": [
        "<a href=\"https://colab.research.google.com/github/AnshuKamath/DB-Analytics-Assignment/blob/main/Section1_R_Analysis.ipynb\" target=\"_parent\"><img src=\"https://colab.research.google.com/assets/colab-badge.svg\" alt=\"Open In Colab\"/></a>"
      ]
    },
    {
      "cell_type": "code",
      "source": [
        "# Section 1: Data Analysis in R - Analyzing the Renewing Innovation:\n",
        "# GreenFuture's Transformation through Technology"
      ],
      "metadata": {
        "id": "ike1cnEX-yKo"
      },
      "execution_count": null,
      "outputs": []
    },
    {
      "cell_type": "code",
      "execution_count": null,
      "metadata": {
        "id": "e4CeR3IC53dK"
      },
      "outputs": [],
      "source": [
        "!apt-get install -y r-base"
      ]
    },
    {
      "cell_type": "code",
      "source": [
        "# Install required R packages\n",
        "!R -e \"install.packages(c('RSQLite', 'DBI', 'dplyr', 'ggplot2'), repos='https://cran.rstudio.com/')\""
      ],
      "metadata": {
        "collapsed": true,
        "id": "ftkI9mQJ6wdX"
      },
      "execution_count": null,
      "outputs": []
    },
    {
      "cell_type": "code",
      "source": [
        "# Load the R extension\n",
        "%load_ext rpy2.ipython"
      ],
      "metadata": {
        "collapsed": true,
        "id": "At4YZMro680H"
      },
      "execution_count": null,
      "outputs": []
    },
    {
      "cell_type": "code",
      "source": [
        "# Clone your GitHub repository to access the dataset\n",
        "!git clone https://github.com/AnshuKamath/DB-Analytics-Assignment.git"
      ],
      "metadata": {
        "collapsed": true,
        "id": "7bIeUolN9ekp"
      },
      "execution_count": null,
      "outputs": []
    },
    {
      "cell_type": "code",
      "source": [
        "# Importing dataset to Google Colab\n",
        "github_url <- \"https://raw.githubusercontent.com/AnshuKamath/DB-Analytics-Assignment/main/greenfuture_ideas_dataset.csv\""
      ],
      "metadata": {
        "id": "3JWdH5Wk_kEE"
      },
      "execution_count": 3,
      "outputs": []
    },
    {
      "cell_type": "code",
      "source": [
        "# Download the dataset from GitHub\n",
        "greenfuture_data <- read.csv(\"https://raw.githubusercontent.com/AnshuKamath/DB-Analytics-Assignment/main/greenfuture_ideas_dataset.csv\")"
      ],
      "metadata": {
        "id": "Oq3BwwPtAohu"
      },
      "execution_count": 6,
      "outputs": []
    },
    {
      "cell_type": "code",
      "source": [
        "# Display the first few rows to confirm successful import\n",
        "head(greenfuture_data)\n",
        "str(greenfuture_data)\n",
        "summary(greenfuture_data)"
      ],
      "metadata": {
        "collapsed": true,
        "id": "fYBLcNwKAsU8"
      },
      "execution_count": null,
      "outputs": []
    },
    {
      "cell_type": "code",
      "source": [
        "# Part 2A: Demonstrating SQL Operations in R (Fixed Column Names)\n",
        "# This script demonstrates basic SQL operations in R\n",
        "\n",
        "# Load required libraries\n",
        "library(RSQLite)\n",
        "library(DBI)\n",
        "library(dplyr)\n",
        "\n",
        "# Create a connection to a new SQLite database\n",
        "conn <- dbConnect(RSQLite::SQLite(), \":memory:\")\n",
        "\n",
        "# Create a table and import the dataset\n",
        "# Note: This assumes greenfuture_data is already loaded from Part 1\n",
        "dbWriteTable(conn, \"ideas\", greenfuture_data)\n",
        "\n",
        "# Confirm that the table was created successfully\n",
        "dbListTables(conn)\n",
        "\n",
        "# Check the column names to ensure we use the correct ones\n",
        "column_names <- dbGetQuery(conn, \"PRAGMA table_info(ideas)\")\n",
        "print(\"Column names in the database:\")\n",
        "print(column_names$name)\n",
        "\n",
        "# 1. SELECT Operation - Basic retrieval\n",
        "select_query <- \"SELECT * FROM ideas LIMIT 5\"\n",
        "result1 <- dbGetQuery(conn, select_query)\n",
        "print(\"Basic SELECT operation:\")\n",
        "print(result1)\n",
        "\n",
        "# 2. SELECT Operation with filtering - Get ideas with high votes\n",
        "high_votes_query <- \"SELECT \\\"Employee.ID\\\", \\\"Idea.Title\\\", \\\"Number.of.Votes\\\"\n",
        "                   FROM ideas\n",
        "                   WHERE \\\"Number.of.Votes\\\" > 50\n",
        "                   ORDER BY \\\"Number.of.Votes\\\" DESC\n",
        "                   LIMIT 10\"\n",
        "result2 <- dbGetQuery(conn, high_votes_query)\n",
        "print(\"SELECT with filtering - High votes:\")\n",
        "print(result2)\n",
        "\n",
        "# 3. SELECT with conditional filtering - Ideas from specific locations\n",
        "location_query <- \"SELECT * FROM ideas WHERE \\\"Office.Location\\\" IN ('London', 'Tokyo', 'New York') LIMIT 5\"\n",
        "result3 <- dbGetQuery(conn, location_query)\n",
        "print(\"SELECT with location filtering:\")\n",
        "print(result3)\n",
        "\n",
        "# 4. INSERT Operation - Add a new idea record\n",
        "# Check if there are any existing records with Employee.ID 'EMP3001'\n",
        "check_existing <- dbGetQuery(conn, \"SELECT COUNT(*) as count FROM ideas WHERE \\\"Employee.ID\\\" = 'EMP3001'\")\n",
        "if (check_existing$count == 0) {\n",
        "  insert_query <- \"INSERT INTO ideas\n",
        "                  (\\\"Employee.ID\\\", \\\"Office.Location\\\", Department, \\\"Idea.Submission.Date\\\", \\\"Idea.Title\\\",\n",
        "                   \\\"Idea.Category\\\", \\\"Number.of.Votes\\\", \\\"Collaboration.Status\\\", \\\"Approval.Status\\\",\n",
        "                   \\\"Implementation.Status\\\", \\\"Security.Concern.Flag\\\")\n",
        "                  VALUES\n",
        "                  ('EMP3001', 'London', 'Research', '2023-05-01', 'AI-Driven Carbon Footprint Analyzer',\n",
        "                   'Renewable Energy', 0, 'Not Started', 'Pending', 'Not Started', 'No')\"\n",
        "  dbExecute(conn, insert_query)\n",
        "  print(\"New idea inserted successfully\")\n",
        "} else {\n",
        "  print(\"Record with EMP3001 already exists, skipping insertion\")\n",
        "}\n",
        "\n",
        "# Verify the insertion\n",
        "verify_insert <- \"SELECT * FROM ideas WHERE \\\"Employee.ID\\\" = 'EMP3001'\"\n",
        "result4 <- dbGetQuery(conn, verify_insert)\n",
        "print(\"Verifying INSERT operation:\")\n",
        "print(result4)\n",
        "\n",
        "# 5. UPDATE Operation - Update the number of votes for the new idea\n",
        "update_query <- \"UPDATE ideas\n",
        "                SET \\\"Number.of.Votes\\\" = 15, \\\"Collaboration.Status\\\" = 'In Progress'\n",
        "                WHERE \\\"Employee.ID\\\" = 'EMP3001'\"\n",
        "rows_affected <- dbExecute(conn, update_query)\n",
        "print(paste(\"Rows updated:\", rows_affected))\n",
        "\n",
        "# Verify the update\n",
        "verify_update <- \"SELECT * FROM ideas WHERE \\\"Employee.ID\\\" = 'EMP3001'\"\n",
        "result5 <- dbGetQuery(conn, verify_update)\n",
        "print(\"Verifying UPDATE operation:\")\n",
        "print(result5)\n",
        "\n",
        "# 6. DELETE Operation - Delete the newly added record\n",
        "delete_query <- \"DELETE FROM ideas WHERE \\\"Employee.ID\\\" = 'EMP3001'\"\n",
        "rows_deleted <- dbExecute(conn, delete_query)\n",
        "print(paste(\"Rows deleted:\", rows_deleted))\n",
        "\n",
        "# Verify the deletion\n",
        "verify_delete <- \"SELECT * FROM ideas WHERE \\\"Employee.ID\\\" = 'EMP3001'\"\n",
        "result6 <- dbGetQuery(conn, verify_delete)\n",
        "if (nrow(result6) == 0) {\n",
        "  print(\"Record successfully deleted\")\n",
        "} else {\n",
        "  print(\"Record still exists - deletion failed\")\n",
        "}\n",
        "\n",
        "# Note: We're not disconnecting from the database here because we'll use\n",
        "# the same connection in the next part"
      ],
      "metadata": {
        "colab": {
          "base_uri": "https://localhost:8080/",
          "height": 1000
        },
        "id": "461d8YlZGlyF",
        "outputId": "f041175b-8feb-4a6e-e6d2-44ae472b29d2"
      },
      "execution_count": 13,
      "outputs": [
        {
          "output_type": "display_data",
          "data": {
            "text/html": [
              "'ideas'"
            ],
            "text/markdown": "'ideas'",
            "text/latex": "'ideas'",
            "text/plain": [
              "[1] \"ideas\""
            ]
          },
          "metadata": {}
        },
        {
          "output_type": "stream",
          "name": "stdout",
          "text": [
            "[1] \"Column names in the database:\"\n",
            " [1] \"Employee.ID\"           \"Office.Location\"       \"Department\"           \n",
            " [4] \"Idea.Submission.Date\"  \"Idea.Title\"            \"Idea.Category\"        \n",
            " [7] \"Number.of.Votes\"       \"Collaboration.Status\"  \"Approval.Status\"      \n",
            "[10] \"Implementation.Status\" \"Security.Concern.Flag\"\n",
            "[1] \"Basic SELECT operation:\"\n",
            "  Employee.ID Office.Location           Department Idea.Submission.Date\n",
            "1    587b45d8         Germany     Renewable Energy           16/04/2024\n",
            "2    0d3e8b8e          Canada     Renewable Energy           14/01/2024\n",
            "3    fa012fe7          France Environmental Policy           10/01/2025\n",
            "4    cb8ed680           Japan           Technology           24/12/2023\n",
            "5    333fff26       Australia           Technology           13/02/2025\n",
            "  Idea.Title         Idea.Category Number.of.Votes Collaboration.Status\n",
            "1     Idea 1 Sustainable Transport             231   Single Contributor\n",
            "2     Idea 2      Water Management             477  Cross-Regional Team\n",
            "3     Idea 3      Renewable Energy              48  Cross-Regional Team\n",
            "4     Idea 4      Circular Economy             330  Cross-Regional Team\n",
            "5     Idea 5      Circular Economy             428   Single Contributor\n",
            "  Approval.Status Implementation.Status Security.Concern.Flag\n",
            "1         Pending           Not Started                    No\n",
            "2        Approved           In Progress                    No\n",
            "3        Approved           Not Started                   Yes\n",
            "4        Approved             Completed                    No\n",
            "5        Approved           Not Started                    No\n",
            "[1] \"SELECT with filtering - High votes:\"\n",
            "   Employee.ID Idea.Title Number.of.Votes\n",
            "1     f2105213   Idea 422             500\n",
            "2     18b9a7b4   Idea 915             500\n",
            "3     7d239d23  Idea 1020             500\n",
            "4     c9a9b03d  Idea 1146             500\n",
            "5     7fde2f60  Idea 1323             500\n",
            "6     be71d545  Idea 2573             500\n",
            "7     a9121f13   Idea 131             499\n",
            "8     7ef795f7   Idea 149             499\n",
            "9     db56e875   Idea 209             499\n",
            "10    282cadfd   Idea 579             499\n",
            "[1] \"SELECT with location filtering:\"\n",
            " [1] Employee.ID           Office.Location       Department           \n",
            " [4] Idea.Submission.Date  Idea.Title            Idea.Category        \n",
            " [7] Number.of.Votes       Collaboration.Status  Approval.Status      \n",
            "[10] Implementation.Status Security.Concern.Flag\n",
            "<0 rows> (or 0-length row.names)\n",
            "[1] \"New idea inserted successfully\"\n",
            "[1] \"Verifying INSERT operation:\"\n",
            "  Employee.ID Office.Location Department Idea.Submission.Date\n",
            "1     EMP3001          London   Research           2023-05-01\n",
            "                           Idea.Title    Idea.Category Number.of.Votes\n",
            "1 AI-Driven Carbon Footprint Analyzer Renewable Energy               0\n",
            "  Collaboration.Status Approval.Status Implementation.Status\n",
            "1          Not Started         Pending           Not Started\n",
            "  Security.Concern.Flag\n",
            "1                    No\n",
            "[1] \"Rows updated: 1\"\n",
            "[1] \"Verifying UPDATE operation:\"\n",
            "  Employee.ID Office.Location Department Idea.Submission.Date\n",
            "1     EMP3001          London   Research           2023-05-01\n",
            "                           Idea.Title    Idea.Category Number.of.Votes\n",
            "1 AI-Driven Carbon Footprint Analyzer Renewable Energy              15\n",
            "  Collaboration.Status Approval.Status Implementation.Status\n",
            "1          In Progress         Pending           Not Started\n",
            "  Security.Concern.Flag\n",
            "1                    No\n",
            "[1] \"Rows deleted: 1\"\n",
            "[1] \"Record successfully deleted\"\n"
          ]
        }
      ]
    }
  ]
}