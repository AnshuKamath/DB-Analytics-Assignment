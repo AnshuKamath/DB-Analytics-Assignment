{
  "nbformat": 4,
  "nbformat_minor": 0,
  "metadata": {
    "colab": {
      "provenance": [],
      "authorship_tag": "ABX9TyOOvFZGgTgChjbYTQ33sHzj",
      "include_colab_link": true
    },
    "kernelspec": {
      "name": "python3",
      "display_name": "Python 3"
    },
    "language_info": {
      "name": "python"
    }
  },
  "cells": [
    {
      "cell_type": "markdown",
      "metadata": {
        "id": "view-in-github",
        "colab_type": "text"
      },
      "source": [
        "<a href=\"https://colab.research.google.com/github/AnshuKamath/DB-Analytics-Assignment/blob/main/Section1_R_Analysis.ipynb\" target=\"_parent\"><img src=\"https://colab.research.google.com/assets/colab-badge.svg\" alt=\"Open In Colab\"/></a>"
      ]
    },
    {
      "cell_type": "code",
      "execution_count": null,
      "metadata": {
        "id": "e4CeR3IC53dK"
      },
      "outputs": [],
      "source": [
        "!apt-get install -y r-base"
      ]
    },
    {
      "cell_type": "code",
      "source": [
        "# Install required R packages\n",
        "!R -e \"install.packages(c('RSQLite', 'DBI', 'dplyr', 'ggplot2'), repos='https://cran.rstudio.com/')\""
      ],
      "metadata": {
        "collapsed": true,
        "id": "ftkI9mQJ6wdX"
      },
      "execution_count": null,
      "outputs": []
    },
    {
      "cell_type": "code",
      "source": [
        "# Load the R extension\n",
        "%load_ext rpy2.ipython"
      ],
      "metadata": {
        "collapsed": true,
        "id": "At4YZMro680H"
      },
      "execution_count": null,
      "outputs": []
    },
    {
      "cell_type": "code",
      "source": [
        "# Clone your GitHub repository to access the dataset\n",
        "!git clone https://github.com/AnshuKamath/DB-Analytics-Assignment.git"
      ],
      "metadata": {
        "collapsed": true,
        "id": "7bIeUolN9ekp"
      },
      "execution_count": null,
      "outputs": []
    },
    {
      "cell_type": "code",
      "source": [],
      "metadata": {
        "id": "Eagsfdah97Yl"
      },
      "execution_count": null,
      "outputs": []
    }
  ]
}